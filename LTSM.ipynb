{
 "cells": [
  {
   "cell_type": "code",
   "execution_count": null,
   "metadata": {},
   "outputs": [],
   "source": [
    "import pandas as pd\n",
    "import numpy as np\n",
    "import matplotlib.pyplot as plt"
   ]
  },
  {
   "cell_type": "code",
   "execution_count": null,
   "metadata": {},
   "outputs": [],
   "source": [
    "import keras.metrics\n",
    "import keras.regularizers\n",
    "from sklearn.preprocessing import MinMaxScaler\n",
    "from sklearn.preprocessing import StandardScaler\n",
    "from keras.models import Sequential\n",
    "from keras.layers import Dense\n",
    "from keras.layers import LSTM\n",
    "from keras.layers import Dropout\n",
    "from keras.preprocessing.sequence import TimeseriesGenerator"
   ]
  },
  {
   "cell_type": "code",
   "execution_count": null,
   "metadata": {},
   "outputs": [],
   "source": [
    "df = pd.read_csv('BestFeatures.csv', header=0, sep=',',decimal='.', skip_blank_lines=True, parse_dates=['Date'])\n",
    "\n",
    "df.head()"
   ]
  },
  {
   "cell_type": "code",
   "execution_count": null,
   "metadata": {},
   "outputs": [],
   "source": [
    "df.set_index('Date', inplace=True)\n",
    "df = df.drop('Year', axis=1)\n",
    "cols = list(df.columns.values) \n",
    "cols.pop(cols.index('SE3'))\n",
    "df = df[cols+['SE3']]"
   ]
  },
  {
   "cell_type": "code",
   "execution_count": null,
   "metadata": {},
   "outputs": [],
   "source": [
    "#tmp = df\n",
    "#dif = []\n",
    "#for i in range(1, len(tmp)):\n",
    "#  value = tmp.iloc[i][-1] - tmp.iloc[i - 1][-1]\n",
    "#  dif.append(value)\n"
   ]
  },
  {
   "cell_type": "code",
   "execution_count": null,
   "metadata": {},
   "outputs": [],
   "source": [
    "#for i, row in enumerate(dif):\n",
    "#  df.iat[i, -1] = row"
   ]
  },
  {
   "cell_type": "code",
   "execution_count": null,
   "metadata": {},
   "outputs": [],
   "source": [
    "#tmp = dif\n",
    "#diff = []\n",
    "#for i in range(1, len(tmp)):\n",
    "#  value = tmp[i] + tmp[i - 1]\n",
    "#  diff.append(value)"
   ]
  },
  {
   "cell_type": "code",
   "execution_count": null,
   "metadata": {},
   "outputs": [],
   "source": [
    "#plt.plot(diff)\n",
    "#plt.show()"
   ]
  },
  {
   "cell_type": "code",
   "execution_count": null,
   "metadata": {},
   "outputs": [],
   "source": [
    "train = df[:-18888] # 2017-03-03 -- 2020-05-26\n",
    "test = df[-9456:] # Test: 2021-06-23 -- 2022-07-21"
   ]
  },
  {
   "cell_type": "code",
   "execution_count": null,
   "metadata": {},
   "outputs": [],
   "source": [
    "train"
   ]
  },
  {
   "cell_type": "code",
   "execution_count": null,
   "metadata": {},
   "outputs": [],
   "source": [
    "test"
   ]
  },
  {
   "cell_type": "code",
   "execution_count": null,
   "metadata": {},
   "outputs": [],
   "source": [
    "n_inputs = 24\n",
    "n_features = train.shape[1]\n",
    "\n",
    "vali_train_x = df[-18888:-9456] # validation: 2020-05-26 -- 2021-06-23\n",
    "train_x = train\n",
    "\n",
    "vali_train_y = df['SE3'][-18888:-9456]\n",
    "train_y = train['SE3']"
   ]
  },
  {
   "cell_type": "code",
   "execution_count": null,
   "metadata": {},
   "outputs": [],
   "source": [
    "vali_train_x"
   ]
  },
  {
   "cell_type": "code",
   "execution_count": null,
   "metadata": {},
   "outputs": [],
   "source": [
    "generator_train = TimeseriesGenerator(train_x, train_y, length=n_inputs, batch_size=40)\n",
    "generator_vali = TimeseriesGenerator(vali_train_x, vali_train_y, length=n_inputs, batch_size=40)\n",
    "generator_test  = TimeseriesGenerator(test, test['SE3'], length=n_inputs, batch_size=40)"
   ]
  },
  {
   "cell_type": "code",
   "execution_count": null,
   "metadata": {},
   "outputs": [],
   "source": [
    "sc =  StandardScaler()\n",
    "sc_y = StandardScaler()\n",
    "\n",
    "sc.fit(generator_train.data)\n",
    "sc_y.fit(generator_train.targets.to_numpy().reshape(-1, 1))\n",
    "\n",
    "generator_train.data = sc.transform(generator_train.data)\n",
    "generator_train.targets = sc_y.transform(generator_train.targets.to_numpy().reshape(-1, 1))\n",
    "\n",
    "generator_vali.data = sc.transform(generator_vali.data)\n",
    "generator_vali.targets = sc_y.transform(generator_vali.targets.to_numpy().reshape(-1, 1))\n",
    "\n",
    "generator_test.data = sc.transform(generator_test.data)\n",
    "generator_test.targets = sc_y.transform(generator_test.targets.to_numpy().reshape(-1, 1))"
   ]
  },
  {
   "cell_type": "code",
   "execution_count": null,
   "metadata": {},
   "outputs": [],
   "source": [
    "x,y = generator_train[0]\n",
    "tasd = sc_y.inverse_transform(y)"
   ]
  },
  {
   "cell_type": "code",
   "execution_count": null,
   "metadata": {},
   "outputs": [],
   "source": [
    "tasd[0]"
   ]
  },
  {
   "cell_type": "code",
   "execution_count": null,
   "metadata": {},
   "outputs": [],
   "source": [
    "x.shape"
   ]
  },
  {
   "cell_type": "code",
   "execution_count": null,
   "metadata": {},
   "outputs": [],
   "source": [
    "\n",
    "regressor = Sequential()\n",
    "#regressor.add(LSTM(units = 80, return_sequences=True,  input_shape = (n_inputs, n_features), dropout=0.20))\n",
    "#regressor.add(Dense(units = 40))\n",
    "#regressor.add(LSTM(units = 80, kernel_regularizer=keras.regularizers.L1(), dropout=0.20))\n",
    "#regressor.add(Dense(units = 40))\n",
    "#regressor.add(LSTM(units = 100,  return_sequences = True, input_shape = (n_inputs, n_features), dropout=0.20))\n",
    "#regressor.add(LSTM(units = 60, return_sequences = True, dropout=0.20))\n",
    "#regressor.add(LSTM(units = 50, dropout=0.20))\n",
    "\n",
    "regressor.add(LSTM(units = 150, activation=\"relu\", kernel_regularizer=keras.regularizers.L1(), return_sequences=True,  input_shape = (n_inputs, n_features), dropout=0.20))\n",
    "#regressor.add(Dense(units = 40, activation=\"relu\"))\n",
    "#regressor.add(LSTM(units = 80, kernel_regularizer=keras.regularizers.L1(), dropout=0.20))\n",
    "#regressor.add(Dense(units = 40, activation=\"sigmoid\"))\n",
    "\n",
    "regressor.add(Dense(units = 1))\n",
    "\n",
    "regressor.compile(optimizer=keras.optimizers.Adam(learning_rate=0.0002), loss=\"mse\",metrics=[keras.metrics.RootMeanSquaredError(name=\"RMSE\"), keras.metrics.MeanAbsoluteError(name=\"MAE\"), keras.metrics.MeanAbsolutePercentageError(name=\"MAPE\")])\n"
   ]
  },
  {
   "cell_type": "code",
   "execution_count": null,
   "metadata": {},
   "outputs": [],
   "source": [
    "#regressor = keras.models.load_model('E:\\Vs Skola\\WebSemantic\\Machine Learning\\EnergyProject\\\\2023-3-12 T 22-34')"
   ]
  },
  {
   "cell_type": "code",
   "execution_count": null,
   "metadata": {},
   "outputs": [],
   "source": [
    "regressor.fit(generator_train, validation_data=generator_vali, shuffle=False, epochs = 200)"
   ]
  },
  {
   "cell_type": "code",
   "execution_count": 69,
   "metadata": {},
   "outputs": [
    {
     "data": {
      "image/png": "[encoded data removed]",
      "text/plain": [
       "<Figure size 640x480 with 1 Axes>"
      ]
     },
     "metadata": {},
     "output_type": "display_data"
    }
   ],
   "source": [
    "loss_e = regressor.history.history['loss']\n",
    "val_loss = regressor.history.history['val_loss']\n",
    "\n",
    "plt.plot(range(len(loss_e)), loss_e, label=\"train_loss\")\n",
    "plt.plot(range(len(val_loss)), val_loss, label=\"validation_loss\")\n",
    "plt.legend()\n",
    "plt.show()"
   ]
  },
  {
   "cell_type": "code",
   "execution_count": 70,
   "metadata": {},
   "outputs": [
    {
     "name": "stdout",
     "output_type": "stream",
     "text": [
      "236/236 [==============================] - 6s 22ms/step\n"
     ]
    }
   ],
   "source": [
    "pred =  regressor.predict(generator_test)\n",
    "\n",
    "re_yhat = sc_y.inverse_transform(pred)\n",
    "re_y = sc_y.inverse_transform(generator_test.targets)"
   ]
  },
  {
   "cell_type": "code",
   "execution_count": 71,
   "metadata": {},
   "outputs": [],
   "source": [
    "sa = re_y\n",
    "sa = sa[:-n_inputs]"
   ]
  },
  {
   "cell_type": "code",
   "execution_count": 72,
   "metadata": {},
   "outputs": [
    {
     "data": {
      "text/plain": [
       "(9432, 1)"
      ]
     },
     "execution_count": 72,
     "metadata": {},
     "output_type": "execute_result"
    }
   ],
   "source": [
    "sa.shape"
   ]
  },
  {
   "cell_type": "code",
   "execution_count": 73,
   "metadata": {},
   "outputs": [
    {
     "name": "stdout",
     "output_type": "stream",
     "text": [
      "Test Score: 97.32 RMSE\n",
      "Test Score: 3552562.00 MAPE\n",
      "Test Score: 67.72 MAE\n"
     ]
    },
    {
     "data": {
      "image/png": "[encoded data removed]",
      "text/plain": [
       "<Figure size 640x480 with 1 Axes>"
      ]
     },
     "metadata": {},
     "output_type": "display_data"
    }
   ],
   "source": [
    "rmse = np.sqrt(keras.metrics.mean_squared_error(sa[:,0], re_yhat[:,0]))\n",
    "mape = keras.metrics.mean_absolute_percentage_error(sa[:,0], re_yhat[:,0])\n",
    "mae = keras.metrics.mean_absolute_error(sa[:,0], re_yhat[:,0])\n",
    "#\n",
    "print('Test Score: %.2f RMSE' % (rmse))\n",
    "print('Test Score: %.2f MAPE' % (mape))\n",
    "print('Test Score: %.2f MAE' % (mae))\n",
    "\n",
    "\n",
    "plt.plot(re_y, label=\"actual\")\n",
    "plt.plot(re_yhat, label=\"predicted\")\n",
    "plt.legend()\n",
    "plt.show()"
   ]
  },
  {
   "cell_type": "code",
   "execution_count": 74,
   "metadata": {},
   "outputs": [],
   "source": [
    "#import datetime\n",
    "#import os\n",
    "#now = datetime.datetime.now()\n",
    "#path = \"E:\\Vs Skola\\WebSemantic\\Machine Learning\\EnergyProject\"+ \"\\\\\" + str(now.year) + \"-\" + str(now.month) + \"-\" + str(now.day)+ \" T \" + str(now.hour) + \"-\" + str(now.minute)\n",
    "#os.makedirs(path)\n",
    "#regressor.save(path)\n",
    "#model = keras.models.load_model('E:\\Vs Skola\\WebSemantic\\Machine Learning\\EnergyProject\\\\2023-3-10 T 17-43')\n",
    "#model.get_config()"
   ]
  }
 ],
 "metadata": {
  "kernelspec": {
   "display_name": "Python 3",
   "language": "python",
   "name": "python3"
  },
  "language_info": {
   "codemirror_mode": {
    "name": "ipython",
    "version": 3
   },
   "file_extension": ".py",
   "mimetype": "text/x-python",
   "name": "python",
   "nbconvert_exporter": "python",
   "pygments_lexer": "ipython3",
   "version": "3.10.0"
  },
  "orig_nbformat": 4
 },
 "nbformat": 4,
 "nbformat_minor": 2
}
